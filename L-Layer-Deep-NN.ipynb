{
 "cells": [
  {
   "cell_type": "code",
   "execution_count": 121,
   "id": "d3997fcf",
   "metadata": {},
   "outputs": [],
   "source": [
    "import pandas as pd\n",
    "import numpy as np\n",
    "from sklearn.datasets import load_breast_cancer\n",
    "from sklearn import preprocessing"
   ]
  },
  {
   "cell_type": "code",
   "execution_count": 81,
   "id": "9af79a4d",
   "metadata": {},
   "outputs": [],
   "source": [
    "data = [[10,20,1],[11,20,1],[20,10,0],[5,10,1],[51,25,0],[1,2,1],[1,4,1],[3,2,0]]\n",
    "df = pd.DataFrame(data, columns=[\"X1\",\"X2\",\"Y\"] )\n",
    "X = df[[\"X1\",\"X2\"]].T\n",
    "Y = df[[\"Y\"]].T"
   ]
  },
  {
   "cell_type": "code",
   "execution_count": 205,
   "id": "d39312ee",
   "metadata": {},
   "outputs": [
    {
     "data": {
      "text/plain": [
       "(30, 569)"
      ]
     },
     "execution_count": 205,
     "metadata": {},
     "output_type": "execute_result"
    }
   ],
   "source": [
    "data = load_breast_cancer()\n",
    "X = np.array(data[\"data\"]).T\n",
    "Y = np.array(np.matrix(list(data[\"target\"])))\n",
    "X.shape"
   ]
  },
  {
   "cell_type": "code",
   "execution_count": 238,
   "id": "8048cccb",
   "metadata": {},
   "outputs": [],
   "source": [
    "#Normalize the data\n",
    "scaler = preprocessing.StandardScaler().fit(X)\n",
    "X = scaler.transform(X)\n"
   ]
  },
  {
   "cell_type": "code",
   "execution_count": 190,
   "id": "2f270dec",
   "metadata": {},
   "outputs": [],
   "source": [
    "layer_dims = [30,7,4,2,1]"
   ]
  },
  {
   "cell_type": "code",
   "execution_count": 191,
   "id": "125ac73a",
   "metadata": {},
   "outputs": [],
   "source": [
    "def initialize_parameters(layer_dims):\n",
    "    parameters = {}\n",
    "    for i in range(1,len(layer_dims)):\n",
    "        #using Xavier initialization efficient using tanh activation.\n",
    "        np.random.seed(10)\n",
    "        parameters[\"W\"+ str(i)] = np.random.randn(layer_dims[i],layer_dims[i-1])*0.01\n",
    "        parameters[\"b\"+ str(i)] = np.zeros((layer_dims[i],1))\n",
    "    return parameters            "
   ]
  },
  {
   "cell_type": "code",
   "execution_count": 84,
   "id": "b0e3185c",
   "metadata": {},
   "outputs": [],
   "source": [
    "def sigmoid(x):\n",
    "    return 1/(1+np.exp(-x))"
   ]
  },
  {
   "cell_type": "code",
   "execution_count": 85,
   "id": "ca211668",
   "metadata": {},
   "outputs": [],
   "source": [
    "def tanh(x):\n",
    "    num = np.subtract(np.exp(x), np.exp(-x))\n",
    "    dem = np.sum([np.exp(x), np.exp(-x)], axis = 0)\n",
    "    \n",
    "    return np.divide(num,dem)"
   ]
  },
  {
   "cell_type": "code",
   "execution_count": 86,
   "id": "65108df4",
   "metadata": {},
   "outputs": [],
   "source": [
    "def relu(x):\n",
    "    dG = (x>0).astype(int)\n",
    "    x = np.array(dG)*np.array(x)\n",
    "    return x    "
   ]
  },
  {
   "cell_type": "code",
   "execution_count": 192,
   "id": "8d2c5358",
   "metadata": {},
   "outputs": [],
   "source": [
    "def get_layer_values(A_prev,W,b, activation):\n",
    "    Z = np.dot(W,A_prev)+b\n",
    "    if activation ==1 or \"sigmoid\":\n",
    "        A = sigmoid(Z)\n",
    "    elif activation == 2 or \"tanh\":\n",
    "        A = tanh(Z)\n",
    "    else:\n",
    "        A = relu(Z)\n",
    "    linear_cache = (A_prev,W,b)\n",
    "    activation_cache = Z\n",
    "    cache = (linear_cache, activation_cache)\n",
    "    return A, cache"
   ]
  },
  {
   "cell_type": "code",
   "execution_count": 193,
   "id": "bd5655c5",
   "metadata": {},
   "outputs": [],
   "source": [
    "def get_cost(Y,AL):\n",
    "    m = Y.shape[1]\n",
    "    cost = -(np.dot(np.log(AL),Y.T)+np.dot(np.log(1-AL),(1-Y).T))*(1/m)\n",
    "    return cost"
   ]
  },
  {
   "cell_type": "code",
   "execution_count": 230,
   "id": "d64b0b09",
   "metadata": {},
   "outputs": [],
   "source": [
    "def forward_propagation(X, parameters, activation):\n",
    "    caches = []\n",
    "    A_prev = X\n",
    "    L = int(len(parameters)//2)\n",
    "    for i in range(1,L+1):\n",
    "        A,cache_temp = get_layer_values(A_prev= A_prev, W= parameters[\"W\"+ str(i)], b = parameters[\"b\"+ str(i)], activation = activation[i])\n",
    "        caches.append(cache_temp)\n",
    "        A_prev = A\n",
    "    cost = get_cost(Y, AL = A)\n",
    "    cost = np.squeeze(cost)\n",
    "    AL = A\n",
    "    return AL, caches, cost"
   ]
  },
  {
   "cell_type": "code",
   "execution_count": 222,
   "id": "27124a77",
   "metadata": {},
   "outputs": [],
   "source": [
    "def get_dZ(dA,cache,activation):\n",
    "    if activation == 1:\n",
    "        n = 1/(1+np.exp(cache[1]))\n",
    "        dG = n*(1-n)\n",
    "        dZ = dA*dG\n",
    "    elif activation == 2:\n",
    "        dG = 1-np.square(cache[1])\n",
    "        dZ = dA*dG\n",
    "    else:\n",
    "        dG = (cache[1]>0).astype(int)\n",
    "        dZ = dA*dG\n",
    "    return dZ     "
   ]
  },
  {
   "cell_type": "code",
   "execution_count": 223,
   "id": "8f86e0dc",
   "metadata": {},
   "outputs": [],
   "source": [
    "def backward_propagation(AL,Y, caches):\n",
    "    grads = {}\n",
    "    dAL = -(np.divide(Y,AL)- np.divide(1-Y, 1-AL))\n",
    "    L = len(caches)\n",
    "    m = AL.shape[1]\n",
    "    #Y = Y.reshape(AL.shape)\n",
    "    for i in reversed(range(L)):\n",
    "        grads[\"dW\"+ str(i+1)] = np.dot(get_dZ(dA= dAL,cache = caches[i], activation = activation[i+1]),caches[i][0][0].T)/m\n",
    "        grads[\"db\"+ str(i+1)] = np.mean(get_dZ(dA = dAL,cache = caches[i], activation = activation[i+1]), axis = 1, keepdims = True)\n",
    "        grads[\"dA\"+ str(i)] = np.dot(caches[i][0][1].T,get_dZ(dA = dAL,cache = caches[i], activation = activation[i+1]))\n",
    "        dAL = grads[\"dA\"+ str(i)]\n",
    "    return grads    "
   ]
  },
  {
   "cell_type": "code",
   "execution_count": 210,
   "id": "d5c995b6",
   "metadata": {},
   "outputs": [],
   "source": [
    "def update_parameters(grads, parameters, learning_rate):\n",
    "    updated_params = parameters.copy()\n",
    "    L = len(updated_params)\n",
    "    for i in range(1,((L//2)+1)):\n",
    "        updated_params[\"W\"+ str(i)] = parameters[\"W\"+ str(i)] - learning_rate*grads[\"dW\"+ str(i)]\n",
    "        updated_params[\"b\"+ str(i)] = parameters[\"b\"+ str(i)] - learning_rate*grads[\"db\"+ str(i)]\n",
    "    return updated_params    "
   ]
  },
  {
   "cell_type": "code",
   "execution_count": 226,
   "id": "7e6a2b16",
   "metadata": {},
   "outputs": [],
   "source": [
    "def L_layer_model(X,Y,layers_dims, learning_rate ,num_iter , activation, print_cost = False):\n",
    "    costs = []\n",
    "    parameters = initialize_parameters(layers_dims)\n",
    "    for i in range(num_iter):\n",
    "        AL,caches, cost =forward_propagation(X,parameters, activation)\n",
    "        grads = backward_propagation(AL, Y, caches)\n",
    "        parameters = update_parameters(grads, parameters, learning_rate)\n",
    "        # Print the cost every 100 iterations\n",
    "        if print_cost and i % 100 == 0 or i == num_iter - 1:\n",
    "            print(\"Cost after iteration {}: {}\".format(i, np.squeeze(cost)))\n",
    "        if i % 100 == 0 or i == num_iter:\n",
    "            costs.append(cost)\n",
    "    return parameters, costs        \n",
    "        \n"
   ]
  },
  {
   "cell_type": "code",
   "execution_count": 247,
   "id": "8c1577ea",
   "metadata": {},
   "outputs": [
    {
     "name": "stdout",
     "output_type": "stream",
     "text": [
      "Cost after iteration 0: 0.6918548944250376\n",
      "Cost after iteration 100: 0.6604344293184737\n",
      "Cost after iteration 200: 0.6603167960134015\n",
      "Cost after iteration 300: 0.6603163458550194\n",
      "Cost after iteration 400: 0.6603163437729267\n",
      "Cost after iteration 500: 0.6603163434050547\n",
      "Cost after iteration 600: 0.6603163430427049\n",
      "Cost after iteration 700: 0.6603163426792723\n",
      "Cost after iteration 800: 0.6603163423146685\n",
      "Cost after iteration 900: 0.6603163419488292\n",
      "Cost after iteration 999: 0.6603163415853682\n"
     ]
    }
   ],
   "source": [
    "params, costs = L_layer_model(X,Y, layers_dims = [30,7,4,2,1], learning_rate = 0.075, num_iter = 1000, activation = [0,2,2,2,1], print_cost = True)"
   ]
  },
  {
   "cell_type": "code",
   "execution_count": null,
   "id": "64afcdf2",
   "metadata": {},
   "outputs": [],
   "source": []
  }
 ],
 "metadata": {
  "kernelspec": {
   "display_name": "Python 3 (ipykernel)",
   "language": "python",
   "name": "python3"
  },
  "language_info": {
   "codemirror_mode": {
    "name": "ipython",
    "version": 3
   },
   "file_extension": ".py",
   "mimetype": "text/x-python",
   "name": "python",
   "nbconvert_exporter": "python",
   "pygments_lexer": "ipython3",
   "version": "3.9.12"
  }
 },
 "nbformat": 4,
 "nbformat_minor": 5
}
